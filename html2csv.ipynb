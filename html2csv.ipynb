{
 "cells": [
  {
   "cell_type": "code",
   "execution_count": 1,
   "metadata": {},
   "outputs": [],
   "source": [
    "import numpy as np\n",
    "import pandas as pd\n",
    "import seaborn as sns\n",
    "import matplotlib.pyplot as plt\n",
    "%matplotlib inline"
   ]
  },
  {
   "cell_type": "code",
   "execution_count": 153,
   "metadata": {},
   "outputs": [],
   "source": [
    "def __word2num(s):\n",
    "    s = s.replace('&#xea0e;','0')\n",
    "    s = s.replace('&#xea4e;','1')\n",
    "    s = s.replace('&#xf474;','2')\n",
    "    s = s.replace('&#xf2ee;','3')\n",
    "    s = s.replace('&#xe166;','4')\n",
    "    s = s.replace('&#xf7f3;','5')\n",
    "    s = s.replace('&#xe94e;','6')\n",
    "    s = s.replace('--','None')\n",
    "    s = s.replace('&#xe6b2;','7')\n",
    "    s = s.replace('&#xe553;','8')\n",
    "    s = s.replace('&#xe38f;','9')\n",
    "    s = s.replace('%','')\n",
    "    if s.endswith('万'):\n",
    "        s = float(s[:-1]) * 10000\n",
    "    return str(s)"
   ]
  },
  {
   "cell_type": "code",
   "execution_count": 154,
   "metadata": {},
   "outputs": [],
   "source": [
    "def process(full_file,name,abandon_num):\n",
    "    '''\n",
    "    处理数据，输出一行:\n",
    "    片名,上周平均票房,排片比,黄金场占比,场次,排座占比,座位数,总票价,第二周平均票房\n",
    "    '''\n",
    "    data = []\n",
    "    with open(full_file,encoding='utf-8') as f:\n",
    "        lines = f.readlines()\n",
    "        for line in lines:\n",
    "            line = line.strip()\n",
    "            if line.startswith('<div class=\"t-col\"><i class=\"cs\">'):\n",
    "                line = line.replace('<div class=\"t-col\"><i class=\"cs\">','')\n",
    "                line = line.replace('</i></div>','')\n",
    "                line = __word2num(line)\n",
    "                data.append(line.strip())\n",
    "                \n",
    "    datas = []\n",
    "    temp = []\n",
    "    for i in range(len(data)):\n",
    "        temp.append(data[i])\n",
    "        if len(temp) == 13:\n",
    "            datas.append(temp)\n",
    "            temp = []\n",
    "    x = pd.DataFrame(datas,columns=['分账票房','分账票房占比','分账票价','排片占比','场均人次','网售占比','黄金场占比','场次','排座占比','座位数','综合票房','综合票房占比','综合票价'])\n",
    "    \n",
    "    # 丢弃点映的信息\n",
    "    x = x.drop(range(int(abandon_num)))\n",
    "    \n",
    "    # 转换pandas格式为数字\n",
    "    x = x.convert_objects(convert_numeric=True)\n",
    "    print(x.head())\n",
    "    \n",
    "    # 计算出第一周的平均综合票房\n",
    "    zonghe = np.sum(x.iloc[:7,-3]) / 7\n",
    "    # 计算出第二周的平均综合票房，即y\n",
    "    y = np.sum(x.iloc[7:14,-3]) / 7\n",
    "    \n",
    "    seri = np.sum(x.iloc[7:14,:])/7\n",
    "    seri = seri.apply(lambda x: '%.3f' % x)\n",
    "    seri = seri.iloc[[3,6,7,8,9,-1]].values\n",
    "    \n",
    "    #插入综合票房与片名数据\n",
    "    seri = np.insert(seri,0,zonghe)\n",
    "    seri = np.insert(seri,0,name)\n",
    "    seri = np.append(seri,y)\n",
    "    \n",
    "    return seri \n",
    "    \n",
    "    \n",
    "    "
   ]
  },
  {
   "cell_type": "code",
   "execution_count": 155,
   "metadata": {},
   "outputs": [
    {
     "name": "stdout",
     "output_type": "stream",
     "text": [
      "日期票房-雷神3：诸神黄昏-4.txt\n",
      "      分账票房  分账票房占比  分账票价  排片占比  场均人次  网售占比  黄金场占比        场次  排座占比         座位数  \\\n",
      "4   9890.5    67.9  32.9  41.6    27  88.7   27.5  114000.0  52.4  17269000.0   \n",
      "5  13538.5    65.4  33.3  43.9    34  87.0   26.5  122000.0  54.7  18421000.0   \n",
      "6   9705.6    61.2  33.4  43.8    24  87.6   26.6  121000.0  54.7  18285000.0   \n",
      "7   3676.0    55.7  32.8  43.1    11  87.8   27.9  108000.0  53.7  16340000.0   \n",
      "8   3082.1    50.7  32.7  42.6     9  86.1   27.9  106000.0  53.1  16120000.0   \n",
      "\n",
      "      综合票房  综合票房占比  综合票价  \n",
      "4  10599.6    68.1  35.2  \n",
      "5  14518.5    65.4  35.7  \n",
      "6  10410.1    61.2  35.8  \n",
      "7   3946.6    55.9  35.2  \n",
      "8   3306.7    50.9  35.1  \n",
      "finished the  日期票房-雷神3：诸神黄昏-4.txt\n",
      "雷神3：诸神黄昏,6900.028571428571,23.329,27.114,64142.857,29.800,9905714.286,35.186,2886.8142857142857,"
     ]
    },
    {
     "name": "stderr",
     "output_type": "stream",
     "text": [
      "f:\\pythonprojects\\lenv\\test\\lib\\site-packages\\ipykernel_launcher.py:30: FutureWarning: convert_objects is deprecated.  To re-infer data dtypes for object columns, use DataFrame.infer_objects()\n",
      "For all other conversions use the data-type specific converters pd.to_datetime, pd.to_timedelta and pd.to_numeric.\n"
     ]
    }
   ],
   "source": [
    "import os \n",
    "import os.path\n",
    "import csv\n",
    "import json\n",
    "\n",
    "# this folder is custom \n",
    "rootdir=\"F:\\PythonProjects\\txt2csv\\csv\" \n",
    "lines = []\n",
    "\n",
    "for parent,dirnames,filenames in os.walk(\".\\csv\"): \n",
    "\n",
    "    for filename in filenames:    \n",
    "        print(filename)\n",
    "        full_file = os.path.join(parent,filename)\n",
    "        name = filename.split('.')[0].split('-')[1]\n",
    "        abandon_num = filename.split('.')[0].split('-')[2]\n",
    "        \n",
    "        line = process(full_file,name,abandon_num)\n",
    "        print('finished the ',filename)\n",
    "        lines.append(line)\n",
    "\n",
    "for s in line:\n",
    "    print(s,end=',')"
   ]
  },
  {
   "cell_type": "code",
   "execution_count": 2,
   "metadata": {},
   "outputs": [],
   "source": [
    "fore = pd.read_csv('forecast2.csv')"
   ]
  },
  {
   "cell_type": "code",
   "execution_count": 3,
   "metadata": {},
   "outputs": [
    {
     "data": {
      "text/html": [
       "<div>\n",
       "<style scoped>\n",
       "    .dataframe tbody tr th:only-of-type {\n",
       "        vertical-align: middle;\n",
       "    }\n",
       "\n",
       "    .dataframe tbody tr th {\n",
       "        vertical-align: top;\n",
       "    }\n",
       "\n",
       "    .dataframe thead th {\n",
       "        text-align: right;\n",
       "    }\n",
       "</style>\n",
       "<table border=\"1\" class=\"dataframe\">\n",
       "  <thead>\n",
       "    <tr style=\"text-align: right;\">\n",
       "      <th></th>\n",
       "      <th>片名</th>\n",
       "      <th>上周平均票房</th>\n",
       "      <th>排片比</th>\n",
       "      <th>黄金场占比</th>\n",
       "      <th>场次</th>\n",
       "      <th>排座占比</th>\n",
       "      <th>座位数</th>\n",
       "      <th>总票价</th>\n",
       "      <th>第二周平均票房</th>\n",
       "    </tr>\n",
       "  </thead>\n",
       "  <tbody>\n",
       "    <tr>\n",
       "      <th>0</th>\n",
       "      <td>悟空传</td>\n",
       "      <td>6875.000000</td>\n",
       "      <td>18.800</td>\n",
       "      <td>26.500</td>\n",
       "      <td>358000.000</td>\n",
       "      <td>21.860</td>\n",
       "      <td>7.113571e+06</td>\n",
       "      <td>36.000</td>\n",
       "      <td>2242.700000</td>\n",
       "    </tr>\n",
       "    <tr>\n",
       "      <th>1</th>\n",
       "      <td>捉妖记</td>\n",
       "      <td>13796.242857</td>\n",
       "      <td>30.429</td>\n",
       "      <td>27.486</td>\n",
       "      <td>49142.857</td>\n",
       "      <td>38.943</td>\n",
       "      <td>4.601286e+06</td>\n",
       "      <td>36.686</td>\n",
       "      <td>8457.650000</td>\n",
       "    </tr>\n",
       "    <tr>\n",
       "      <th>2</th>\n",
       "      <td>红海行动</td>\n",
       "      <td>20664.357143</td>\n",
       "      <td>32.057</td>\n",
       "      <td>26.157</td>\n",
       "      <td>99857.143</td>\n",
       "      <td>39.157</td>\n",
       "      <td>1.483600e+07</td>\n",
       "      <td>38.943</td>\n",
       "      <td>16445.328571</td>\n",
       "    </tr>\n",
       "    <tr>\n",
       "      <th>3</th>\n",
       "      <td>战狼2</td>\n",
       "      <td>26310.614286</td>\n",
       "      <td>53.771</td>\n",
       "      <td>26.457</td>\n",
       "      <td>146428.571</td>\n",
       "      <td>58.529</td>\n",
       "      <td>1.934300e+07</td>\n",
       "      <td>35.614</td>\n",
       "      <td>28504.671429</td>\n",
       "    </tr>\n",
       "    <tr>\n",
       "      <th>4</th>\n",
       "      <td>寒战2</td>\n",
       "      <td>6534.300000</td>\n",
       "      <td>12.300</td>\n",
       "      <td>25.871</td>\n",
       "      <td>26571.429</td>\n",
       "      <td>13.571</td>\n",
       "      <td>3.613714e+06</td>\n",
       "      <td>36.500</td>\n",
       "      <td>2352.557143</td>\n",
       "    </tr>\n",
       "    <tr>\n",
       "      <th>5</th>\n",
       "      <td>芳华</td>\n",
       "      <td>7840.914286</td>\n",
       "      <td>23.157</td>\n",
       "      <td>26.614</td>\n",
       "      <td>61571.429</td>\n",
       "      <td>25.000</td>\n",
       "      <td>8.093143e+06</td>\n",
       "      <td>34.086</td>\n",
       "      <td>6107.542857</td>\n",
       "    </tr>\n",
       "    <tr>\n",
       "      <th>6</th>\n",
       "      <td>大鱼海棠</td>\n",
       "      <td>5145.200000</td>\n",
       "      <td>13.200</td>\n",
       "      <td>26.414</td>\n",
       "      <td>28571.429</td>\n",
       "      <td>13.129</td>\n",
       "      <td>3.496000e+06</td>\n",
       "      <td>33.171</td>\n",
       "      <td>2117.714286</td>\n",
       "    </tr>\n",
       "    <tr>\n",
       "      <th>7</th>\n",
       "      <td>港囧</td>\n",
       "      <td>15082.571429</td>\n",
       "      <td>27.057</td>\n",
       "      <td>25.957</td>\n",
       "      <td>47285.714</td>\n",
       "      <td>29.557</td>\n",
       "      <td>5.389143e+06</td>\n",
       "      <td>32.971</td>\n",
       "      <td>6277.140000</td>\n",
       "    </tr>\n",
       "    <tr>\n",
       "      <th>8</th>\n",
       "      <td>功夫熊猫3</td>\n",
       "      <td>7631.857143</td>\n",
       "      <td>20.414</td>\n",
       "      <td>18.771</td>\n",
       "      <td>33796.286</td>\n",
       "      <td>24.986</td>\n",
       "      <td>4.519571e+06</td>\n",
       "      <td>36.600</td>\n",
       "      <td>2661.150000</td>\n",
       "    </tr>\n",
       "    <tr>\n",
       "      <th>9</th>\n",
       "      <td>功夫瑜伽</td>\n",
       "      <td>14512.385714</td>\n",
       "      <td>23.757</td>\n",
       "      <td>26.357</td>\n",
       "      <td>66142.857</td>\n",
       "      <td>27.871</td>\n",
       "      <td>9.420857e+06</td>\n",
       "      <td>37.571</td>\n",
       "      <td>7048.580000</td>\n",
       "    </tr>\n",
       "    <tr>\n",
       "      <th>10</th>\n",
       "      <td>霍比特人3：五军之战</td>\n",
       "      <td>6385.857143</td>\n",
       "      <td>19.614</td>\n",
       "      <td>25.000</td>\n",
       "      <td>22714.286</td>\n",
       "      <td>23.214</td>\n",
       "      <td>2.591857e+06</td>\n",
       "      <td>44.986</td>\n",
       "      <td>2802.150000</td>\n",
       "    </tr>\n",
       "    <tr>\n",
       "      <th>11</th>\n",
       "      <td>金刚：骷髅岛</td>\n",
       "      <td>9708.828571</td>\n",
       "      <td>25.257</td>\n",
       "      <td>25.900</td>\n",
       "      <td>63428.571</td>\n",
       "      <td>32.000</td>\n",
       "      <td>9.809429e+06</td>\n",
       "      <td>35.557</td>\n",
       "      <td>4924.150000</td>\n",
       "    </tr>\n",
       "    <tr>\n",
       "      <th>12</th>\n",
       "      <td>湄公河行动</td>\n",
       "      <td>7009.671429</td>\n",
       "      <td>30.714</td>\n",
       "      <td>27.500</td>\n",
       "      <td>63285.714</td>\n",
       "      <td>36.414</td>\n",
       "      <td>9.134714e+06</td>\n",
       "      <td>30.243</td>\n",
       "      <td>4438.210000</td>\n",
       "    </tr>\n",
       "    <tr>\n",
       "      <th>13</th>\n",
       "      <td>你的名字。</td>\n",
       "      <td>5247.428571</td>\n",
       "      <td>19.929</td>\n",
       "      <td>26.314</td>\n",
       "      <td>42857.143</td>\n",
       "      <td>21.286</td>\n",
       "      <td>6.224286e+06</td>\n",
       "      <td>26.757</td>\n",
       "      <td>1940.180000</td>\n",
       "    </tr>\n",
       "    <tr>\n",
       "      <th>14</th>\n",
       "      <td>唐人街探案2</td>\n",
       "      <td>30658.014286</td>\n",
       "      <td>30.657</td>\n",
       "      <td>24.586</td>\n",
       "      <td>95857.143</td>\n",
       "      <td>32.000</td>\n",
       "      <td>1.217471e+07</td>\n",
       "      <td>37.386</td>\n",
       "      <td>11174.328000</td>\n",
       "    </tr>\n",
       "    <tr>\n",
       "      <th>15</th>\n",
       "      <td>寻龙诀</td>\n",
       "      <td>13154.514286</td>\n",
       "      <td>24.871</td>\n",
       "      <td>24.457</td>\n",
       "      <td>40000.000</td>\n",
       "      <td>28.100</td>\n",
       "      <td>4.832286e+06</td>\n",
       "      <td>36.914</td>\n",
       "      <td>6305.771000</td>\n",
       "    </tr>\n",
       "    <tr>\n",
       "      <th>16</th>\n",
       "      <td>西游记之孙悟空三打白骨精</td>\n",
       "      <td>10954.828571</td>\n",
       "      <td>15.214</td>\n",
       "      <td>24.729</td>\n",
       "      <td>31857.143</td>\n",
       "      <td>14.586</td>\n",
       "      <td>3.343143e+06</td>\n",
       "      <td>36.343</td>\n",
       "      <td>3766.740000</td>\n",
       "    </tr>\n",
       "    <tr>\n",
       "      <th>17</th>\n",
       "      <td>叶问3</td>\n",
       "      <td>8656.900000</td>\n",
       "      <td>18.557</td>\n",
       "      <td>26.443</td>\n",
       "      <td>35000.000</td>\n",
       "      <td>16.457</td>\n",
       "      <td>3.530286e+06</td>\n",
       "      <td>36.986</td>\n",
       "      <td>1829.500000</td>\n",
       "    </tr>\n",
       "    <tr>\n",
       "      <th>18</th>\n",
       "      <td>美人鱼</td>\n",
       "      <td>25928.857143</td>\n",
       "      <td>34.557</td>\n",
       "      <td>26.900</td>\n",
       "      <td>73571.429</td>\n",
       "      <td>42.529</td>\n",
       "      <td>9.771000e+06</td>\n",
       "      <td>36.357</td>\n",
       "      <td>13147.100000</td>\n",
       "    </tr>\n",
       "    <tr>\n",
       "      <th>19</th>\n",
       "      <td>惊天魔盗团2</td>\n",
       "      <td>6225.314286</td>\n",
       "      <td>15.286</td>\n",
       "      <td>25.357</td>\n",
       "      <td>31571.429</td>\n",
       "      <td>15.714</td>\n",
       "      <td>3.942571e+06</td>\n",
       "      <td>33.300</td>\n",
       "      <td>2310.490000</td>\n",
       "    </tr>\n",
       "    <tr>\n",
       "      <th>20</th>\n",
       "      <td>绝地逃亡</td>\n",
       "      <td>7835.100000</td>\n",
       "      <td>22.514</td>\n",
       "      <td>27.057</td>\n",
       "      <td>49142.857</td>\n",
       "      <td>24.629</td>\n",
       "      <td>6.565000e+06</td>\n",
       "      <td>34.757</td>\n",
       "      <td>3579.270000</td>\n",
       "    </tr>\n",
       "    <tr>\n",
       "      <th>21</th>\n",
       "      <td>老炮儿</td>\n",
       "      <td>5693.671429</td>\n",
       "      <td>19.000</td>\n",
       "      <td>25.786</td>\n",
       "      <td>31857.143</td>\n",
       "      <td>19.886</td>\n",
       "      <td>3.579857e+06</td>\n",
       "      <td>31.600</td>\n",
       "      <td>4991.250000</td>\n",
       "    </tr>\n",
       "    <tr>\n",
       "      <th>22</th>\n",
       "      <td>雷神3：诸神黄昏</td>\n",
       "      <td>6900.028571</td>\n",
       "      <td>23.329</td>\n",
       "      <td>27.114</td>\n",
       "      <td>64142.857</td>\n",
       "      <td>29.800</td>\n",
       "      <td>9.905714e+06</td>\n",
       "      <td>35.186</td>\n",
       "      <td>2886.814000</td>\n",
       "    </tr>\n",
       "  </tbody>\n",
       "</table>\n",
       "</div>"
      ],
      "text/plain": [
       "              片名        上周平均票房     排片比   黄金场占比          场次    排座占比  \\\n",
       "0            悟空传   6875.000000  18.800  26.500  358000.000  21.860   \n",
       "1            捉妖记  13796.242857  30.429  27.486   49142.857  38.943   \n",
       "2           红海行动  20664.357143  32.057  26.157   99857.143  39.157   \n",
       "3            战狼2  26310.614286  53.771  26.457  146428.571  58.529   \n",
       "4            寒战2   6534.300000  12.300  25.871   26571.429  13.571   \n",
       "5             芳华   7840.914286  23.157  26.614   61571.429  25.000   \n",
       "6           大鱼海棠   5145.200000  13.200  26.414   28571.429  13.129   \n",
       "7             港囧  15082.571429  27.057  25.957   47285.714  29.557   \n",
       "8          功夫熊猫3   7631.857143  20.414  18.771   33796.286  24.986   \n",
       "9           功夫瑜伽  14512.385714  23.757  26.357   66142.857  27.871   \n",
       "10    霍比特人3：五军之战   6385.857143  19.614  25.000   22714.286  23.214   \n",
       "11        金刚：骷髅岛   9708.828571  25.257  25.900   63428.571  32.000   \n",
       "12         湄公河行动   7009.671429  30.714  27.500   63285.714  36.414   \n",
       "13         你的名字。   5247.428571  19.929  26.314   42857.143  21.286   \n",
       "14        唐人街探案2  30658.014286  30.657  24.586   95857.143  32.000   \n",
       "15           寻龙诀  13154.514286  24.871  24.457   40000.000  28.100   \n",
       "16  西游记之孙悟空三打白骨精  10954.828571  15.214  24.729   31857.143  14.586   \n",
       "17           叶问3   8656.900000  18.557  26.443   35000.000  16.457   \n",
       "18           美人鱼  25928.857143  34.557  26.900   73571.429  42.529   \n",
       "19        惊天魔盗团2   6225.314286  15.286  25.357   31571.429  15.714   \n",
       "20          绝地逃亡   7835.100000  22.514  27.057   49142.857  24.629   \n",
       "21           老炮儿   5693.671429  19.000  25.786   31857.143  19.886   \n",
       "22      雷神3：诸神黄昏   6900.028571  23.329  27.114   64142.857  29.800   \n",
       "\n",
       "             座位数     总票价       第二周平均票房  \n",
       "0   7.113571e+06  36.000   2242.700000  \n",
       "1   4.601286e+06  36.686   8457.650000  \n",
       "2   1.483600e+07  38.943  16445.328571  \n",
       "3   1.934300e+07  35.614  28504.671429  \n",
       "4   3.613714e+06  36.500   2352.557143  \n",
       "5   8.093143e+06  34.086   6107.542857  \n",
       "6   3.496000e+06  33.171   2117.714286  \n",
       "7   5.389143e+06  32.971   6277.140000  \n",
       "8   4.519571e+06  36.600   2661.150000  \n",
       "9   9.420857e+06  37.571   7048.580000  \n",
       "10  2.591857e+06  44.986   2802.150000  \n",
       "11  9.809429e+06  35.557   4924.150000  \n",
       "12  9.134714e+06  30.243   4438.210000  \n",
       "13  6.224286e+06  26.757   1940.180000  \n",
       "14  1.217471e+07  37.386  11174.328000  \n",
       "15  4.832286e+06  36.914   6305.771000  \n",
       "16  3.343143e+06  36.343   3766.740000  \n",
       "17  3.530286e+06  36.986   1829.500000  \n",
       "18  9.771000e+06  36.357  13147.100000  \n",
       "19  3.942571e+06  33.300   2310.490000  \n",
       "20  6.565000e+06  34.757   3579.270000  \n",
       "21  3.579857e+06  31.600   4991.250000  \n",
       "22  9.905714e+06  35.186   2886.814000  "
      ]
     },
     "execution_count": 3,
     "metadata": {},
     "output_type": "execute_result"
    }
   ],
   "source": [
    "fore"
   ]
  },
  {
   "cell_type": "code",
   "execution_count": 4,
   "metadata": {},
   "outputs": [],
   "source": [
    "X = fore.drop(['片名','第二周平均票房','排座占比'],axis=1)\n",
    "Y = fore.iloc[:,-1]"
   ]
  },
  {
   "cell_type": "code",
   "execution_count": 5,
   "metadata": {},
   "outputs": [
    {
     "data": {
      "text/html": [
       "<div>\n",
       "<style scoped>\n",
       "    .dataframe tbody tr th:only-of-type {\n",
       "        vertical-align: middle;\n",
       "    }\n",
       "\n",
       "    .dataframe tbody tr th {\n",
       "        vertical-align: top;\n",
       "    }\n",
       "\n",
       "    .dataframe thead th {\n",
       "        text-align: right;\n",
       "    }\n",
       "</style>\n",
       "<table border=\"1\" class=\"dataframe\">\n",
       "  <thead>\n",
       "    <tr style=\"text-align: right;\">\n",
       "      <th></th>\n",
       "      <th>上周平均票房</th>\n",
       "      <th>排片比</th>\n",
       "      <th>黄金场占比</th>\n",
       "      <th>场次</th>\n",
       "      <th>座位数</th>\n",
       "      <th>总票价</th>\n",
       "    </tr>\n",
       "  </thead>\n",
       "  <tbody>\n",
       "    <tr>\n",
       "      <th>0</th>\n",
       "      <td>6875.000000</td>\n",
       "      <td>18.800</td>\n",
       "      <td>26.500</td>\n",
       "      <td>358000.000</td>\n",
       "      <td>7.113571e+06</td>\n",
       "      <td>36.000</td>\n",
       "    </tr>\n",
       "    <tr>\n",
       "      <th>1</th>\n",
       "      <td>13796.242857</td>\n",
       "      <td>30.429</td>\n",
       "      <td>27.486</td>\n",
       "      <td>49142.857</td>\n",
       "      <td>4.601286e+06</td>\n",
       "      <td>36.686</td>\n",
       "    </tr>\n",
       "    <tr>\n",
       "      <th>2</th>\n",
       "      <td>20664.357143</td>\n",
       "      <td>32.057</td>\n",
       "      <td>26.157</td>\n",
       "      <td>99857.143</td>\n",
       "      <td>1.483600e+07</td>\n",
       "      <td>38.943</td>\n",
       "    </tr>\n",
       "    <tr>\n",
       "      <th>3</th>\n",
       "      <td>26310.614286</td>\n",
       "      <td>53.771</td>\n",
       "      <td>26.457</td>\n",
       "      <td>146428.571</td>\n",
       "      <td>1.934300e+07</td>\n",
       "      <td>35.614</td>\n",
       "    </tr>\n",
       "    <tr>\n",
       "      <th>4</th>\n",
       "      <td>6534.300000</td>\n",
       "      <td>12.300</td>\n",
       "      <td>25.871</td>\n",
       "      <td>26571.429</td>\n",
       "      <td>3.613714e+06</td>\n",
       "      <td>36.500</td>\n",
       "    </tr>\n",
       "  </tbody>\n",
       "</table>\n",
       "</div>"
      ],
      "text/plain": [
       "         上周平均票房     排片比   黄金场占比          场次           座位数     总票价\n",
       "0   6875.000000  18.800  26.500  358000.000  7.113571e+06  36.000\n",
       "1  13796.242857  30.429  27.486   49142.857  4.601286e+06  36.686\n",
       "2  20664.357143  32.057  26.157   99857.143  1.483600e+07  38.943\n",
       "3  26310.614286  53.771  26.457  146428.571  1.934300e+07  35.614\n",
       "4   6534.300000  12.300  25.871   26571.429  3.613714e+06  36.500"
      ]
     },
     "execution_count": 5,
     "metadata": {},
     "output_type": "execute_result"
    }
   ],
   "source": [
    "X.head()"
   ]
  },
  {
   "cell_type": "code",
   "execution_count": 6,
   "metadata": {},
   "outputs": [
    {
     "data": {
      "text/plain": [
       "0     2242.700000\n",
       "1     8457.650000\n",
       "2    16445.328571\n",
       "3    28504.671429\n",
       "4     2352.557143\n",
       "Name: 第二周平均票房, dtype: float64"
      ]
     },
     "execution_count": 6,
     "metadata": {},
     "output_type": "execute_result"
    }
   ],
   "source": [
    "Y.head()"
   ]
  },
  {
   "cell_type": "code",
   "execution_count": 14,
   "metadata": {},
   "outputs": [
    {
     "data": {
      "image/png": "[encoded data removed]",
      "text/plain": [
       "<Figure size 864x648 with 2 Axes>"
      ]
     },
     "metadata": {},
     "output_type": "display_data"
    }
   ],
   "source": [
    "# 相关性协方差表,corr()函数,返回结果接近0说明无相关性,大于0说明是正相关,小于0是负相关.\n",
    "train_corr = pd.concat([X,Y],axis=1).corr()\n",
    "# 画出相关性热力图\n",
    "plt.rcParams['font.sans-serif']=['SimHei'] #用来正常显示中文标签\n",
    "plt.rcParams['axes.unicode_minus']=False #用来正常显示负号\n",
    "a = plt.subplots(figsize=(12, 9))#调整画布大小\n",
    "a = sns.heatmap(train_corr, vmax=.8, square=True,annot=True)#画热力图   annot=True 显示系数\n",
    "plt.savefig('heatmap.png')"
   ]
  },
  {
   "cell_type": "code",
   "execution_count": 7,
   "metadata": {},
   "outputs": [],
   "source": [
    "from sklearn.model_selection import train_test_split\n",
    "from sklearn.preprocessing import StandardScaler\n",
    "from sklearn.model_selection import cross_val_score\n",
    "\n",
    "\n",
    "ss_x = StandardScaler()\n",
    "ss_y = StandardScaler()"
   ]
  },
  {
   "cell_type": "code",
   "execution_count": 9,
   "metadata": {},
   "outputs": [],
   "source": [
    "X_data,X_test,Y_data,Y_test = train_test_split(X,Y,test_size=0.4)\n",
    "X_data = ss_x.fit_transform(X_data)\n",
    "X_test = ss_x.transform(X_test)\n",
    "Y_data = ss_y.fit_transform(Y_data.values.reshape(-1,1))\n",
    "Y_test = ss_y.transform(Y_test.values.reshape(-1,1))"
   ]
  },
  {
   "cell_type": "code",
   "execution_count": 10,
   "metadata": {},
   "outputs": [
    {
     "name": "stdout",
     "output_type": "stream",
     "text": [
      "0.9356631546113291\n",
      "-0.7740343459315835\n",
      "[[ 8668.4369348 ]\n",
      " [13136.9573183 ]\n",
      " [12237.63567692]\n",
      " [10161.80359763]\n",
      " [ 8769.12834954]\n",
      " [ 8768.96967797]\n",
      " [ 8605.09212053]\n",
      " [ -741.52384029]\n",
      " [ 6150.68120021]\n",
      " [ 4918.33037573]]\n",
      "[[ 6277.14      ]\n",
      " [13147.1       ]\n",
      " [ 2661.15      ]\n",
      " [ 4438.21      ]\n",
      " [ 8457.65      ]\n",
      " [ 6305.771     ]\n",
      " [ 4924.15      ]\n",
      " [ 2352.55714286]\n",
      " [ 6107.54285714]\n",
      " [ 3579.27      ]]\n"
     ]
    }
   ],
   "source": [
    "from sklearn.linear_model import LinearRegression\n",
    "lr = LinearRegression()\n",
    "lr.fit(X_data,Y_data)\n",
    "lr_y_predict = lr.predict(X_data)\n",
    "print(lr.score(X_data,Y_data))\n",
    "print(lr.score(X_test,Y_test))\n",
    "print(ss_y.inverse_transform(lr.predict(X_test)))\n",
    "print(ss_y.inverse_transform(Y_test))"
   ]
  },
  {
   "cell_type": "code",
   "execution_count": 69,
   "metadata": {},
   "outputs": [
    {
     "data": {
      "text/plain": [
       "array([[ 0.08077331,  0.80226124, -0.01195071,  0.41407013, -0.3598584 ,\n",
       "         0.03010185,  0.11364416]])"
      ]
     },
     "execution_count": 69,
     "metadata": {},
     "output_type": "execute_result"
    }
   ],
   "source": [
    "lr.coef_"
   ]
  },
  {
   "cell_type": "code",
   "execution_count": 91,
   "metadata": {},
   "outputs": [
    {
     "name": "stderr",
     "output_type": "stream",
     "text": [
      "f:\\pythonprojects\\lenv\\test\\lib\\site-packages\\sklearn\\utils\\validation.py:578: DataConversionWarning: A column-vector y was passed when a 1d array was expected. Please change the shape of y to (n_samples, ), for example using ravel().\n",
      "  y = column_or_1d(y, warn=True)\n"
     ]
    },
    {
     "data": {
      "text/plain": [
       "{'C': 1, 'max_iter': 100}"
      ]
     },
     "execution_count": 91,
     "metadata": {},
     "output_type": "execute_result"
    }
   ],
   "source": [
    "from sklearn.svm import SVR\n",
    "from sklearn.model_selection import GridSearchCV\n",
    "param = {'C':[0.001,0.01,0.1,1,10], \"max_iter\":[100,250]}\n",
    "svr = SVR(kernel='rbf')\n",
    "clf = GridSearchCV(svr, param,cv=4, n_jobs=-1, refit=True,scoring='r2')\n",
    "clf.fit(X_data,Y_data)\n",
    "clf.best_params_\n",
    "# print(svr.score(X_data,Y_data))\n",
    "# print(svr.score(X_test,Y_test))\n",
    "# print(ss_y.inverse_transform(svr.predict(X_test)))\n",
    "# print(ss_y.inverse_transform(Y_test))"
   ]
  },
  {
   "cell_type": "code",
   "execution_count": 93,
   "metadata": {},
   "outputs": [
    {
     "name": "stderr",
     "output_type": "stream",
     "text": [
      "f:\\pythonprojects\\lenv\\test\\lib\\site-packages\\sklearn\\model_selection\\_search.py:761: DeprecationWarning: The grid_scores_ attribute was deprecated in version 0.18 in favor of the more elaborate cv_results_ attribute. The grid_scores_ attribute will not be available from 0.20\n",
      "  DeprecationWarning)\n"
     ]
    },
    {
     "data": {
      "text/plain": [
       "[mean: -23.71543, std: 46.51165, params: {'max_iter': 100, 'C': 0.001},\n",
       " mean: -23.71543, std: 46.51165, params: {'max_iter': 250, 'C': 0.001},\n",
       " mean: -22.66036, std: 44.48266, params: {'max_iter': 100, 'C': 0.01},\n",
       " mean: -22.66036, std: 44.48266, params: {'max_iter': 250, 'C': 0.01},\n",
       " mean: -15.13818, std: 30.09784, params: {'max_iter': 100, 'C': 0.1},\n",
       " mean: -15.13818, std: 30.09784, params: {'max_iter': 250, 'C': 0.1},\n",
       " mean: -8.81480, std: 18.65062, params: {'max_iter': 100, 'C': 1},\n",
       " mean: -8.81480, std: 18.65062, params: {'max_iter': 250, 'C': 1},\n",
       " mean: -11.95319, std: 24.87252, params: {'max_iter': 100, 'C': 10},\n",
       " mean: -11.95319, std: 24.87252, params: {'max_iter': 250, 'C': 10}]"
      ]
     },
     "execution_count": 93,
     "metadata": {},
     "output_type": "execute_result"
    }
   ],
   "source": [
    "clf.grid_scores_"
   ]
  },
  {
   "cell_type": "code",
   "execution_count": 96,
   "metadata": {},
   "outputs": [
    {
     "name": "stderr",
     "output_type": "stream",
     "text": [
      "f:\\pythonprojects\\lenv\\test\\lib\\site-packages\\sklearn\\model_selection\\_search.py:739: DataConversionWarning: A column-vector y was passed when a 1d array was expected. Please change the shape of y to (n_samples,), for example using ravel().\n",
      "  self.best_estimator_.fit(X, y, **fit_params)\n",
      "f:\\pythonprojects\\lenv\\test\\lib\\site-packages\\sklearn\\model_selection\\_search.py:761: DeprecationWarning: The grid_scores_ attribute was deprecated in version 0.18 in favor of the more elaborate cv_results_ attribute. The grid_scores_ attribute will not be available from 0.20\n",
      "  DeprecationWarning)\n"
     ]
    },
    {
     "name": "stdout",
     "output_type": "stream",
     "text": [
      "{'min_samples_leaf': 1, 'n_estimators': 10, 'max_depth': 6, 'max_features': 'auto'}\n",
      "[mean: 0.44438, std: 0.31967, params: {'min_samples_leaf': 1, 'n_estimators': 10, 'max_depth': None, 'max_features': 'auto'}, mean: 0.57906, std: 0.16998, params: {'min_samples_leaf': 1, 'n_estimators': 30, 'max_depth': None, 'max_features': 'auto'}, mean: 0.62198, std: 0.17075, params: {'min_samples_leaf': 1, 'n_estimators': 50, 'max_depth': None, 'max_features': 'auto'}, mean: 0.65218, std: 0.22107, params: {'min_samples_leaf': 1, 'n_estimators': 70, 'max_depth': None, 'max_features': 'auto'}, mean: 0.62500, std: 0.16141, params: {'min_samples_leaf': 1, 'n_estimators': 100, 'max_depth': None, 'max_features': 'auto'}, mean: 0.45819, std: 0.26046, params: {'min_samples_leaf': 3, 'n_estimators': 10, 'max_depth': None, 'max_features': 'auto'}, mean: 0.40170, std: 0.27592, params: {'min_samples_leaf': 3, 'n_estimators': 30, 'max_depth': None, 'max_features': 'auto'}, mean: 0.46700, std: 0.24635, params: {'min_samples_leaf': 3, 'n_estimators': 50, 'max_depth': None, 'max_features': 'auto'}, mean: 0.47951, std: 0.31859, params: {'min_samples_leaf': 3, 'n_estimators': 70, 'max_depth': None, 'max_features': 'auto'}, mean: 0.41166, std: 0.28196, params: {'min_samples_leaf': 3, 'n_estimators': 100, 'max_depth': None, 'max_features': 'auto'}, mean: -0.59450, std: 1.64273, params: {'min_samples_leaf': 5, 'n_estimators': 10, 'max_depth': None, 'max_features': 'auto'}, mean: -0.04518, std: 0.67222, params: {'min_samples_leaf': 5, 'n_estimators': 30, 'max_depth': None, 'max_features': 'auto'}, mean: 0.05586, std: 0.58315, params: {'min_samples_leaf': 5, 'n_estimators': 50, 'max_depth': None, 'max_features': 'auto'}, mean: -0.14590, std: 0.86939, params: {'min_samples_leaf': 5, 'n_estimators': 70, 'max_depth': None, 'max_features': 'auto'}, mean: -0.06785, std: 0.75735, params: {'min_samples_leaf': 5, 'n_estimators': 100, 'max_depth': None, 'max_features': 'auto'}, mean: 0.52224, std: 0.17920, params: {'min_samples_leaf': 1, 'n_estimators': 10, 'max_depth': None, 'max_features': 'sqrt'}, mean: 0.60145, std: 0.20002, params: {'min_samples_leaf': 1, 'n_estimators': 30, 'max_depth': None, 'max_features': 'sqrt'}, mean: 0.61862, std: 0.19381, params: {'min_samples_leaf': 1, 'n_estimators': 50, 'max_depth': None, 'max_features': 'sqrt'}, mean: 0.57935, std: 0.18859, params: {'min_samples_leaf': 1, 'n_estimators': 70, 'max_depth': None, 'max_features': 'sqrt'}, mean: 0.59738, std: 0.20504, params: {'min_samples_leaf': 1, 'n_estimators': 100, 'max_depth': None, 'max_features': 'sqrt'}, mean: 0.27642, std: 0.26429, params: {'min_samples_leaf': 3, 'n_estimators': 10, 'max_depth': None, 'max_features': 'sqrt'}, mean: 0.47524, std: 0.25466, params: {'min_samples_leaf': 3, 'n_estimators': 30, 'max_depth': None, 'max_features': 'sqrt'}, mean: 0.49375, std: 0.25847, params: {'min_samples_leaf': 3, 'n_estimators': 50, 'max_depth': None, 'max_features': 'sqrt'}, mean: 0.49141, std: 0.27977, params: {'min_samples_leaf': 3, 'n_estimators': 70, 'max_depth': None, 'max_features': 'sqrt'}, mean: 0.50267, std: 0.27571, params: {'min_samples_leaf': 3, 'n_estimators': 100, 'max_depth': None, 'max_features': 'sqrt'}, mean: -0.30197, std: 1.16201, params: {'min_samples_leaf': 5, 'n_estimators': 10, 'max_depth': None, 'max_features': 'sqrt'}, mean: 0.11828, std: 0.28569, params: {'min_samples_leaf': 5, 'n_estimators': 30, 'max_depth': None, 'max_features': 'sqrt'}, mean: -0.10219, std: 0.74280, params: {'min_samples_leaf': 5, 'n_estimators': 50, 'max_depth': None, 'max_features': 'sqrt'}, mean: 0.14787, std: 0.47649, params: {'min_samples_leaf': 5, 'n_estimators': 70, 'max_depth': None, 'max_features': 'sqrt'}, mean: 0.17171, std: 0.33562, params: {'min_samples_leaf': 5, 'n_estimators': 100, 'max_depth': None, 'max_features': 'sqrt'}, mean: 0.48924, std: 0.14146, params: {'min_samples_leaf': 1, 'n_estimators': 10, 'max_depth': None, 'max_features': 'log2'}, mean: 0.60954, std: 0.17292, params: {'min_samples_leaf': 1, 'n_estimators': 30, 'max_depth': None, 'max_features': 'log2'}, mean: 0.63563, std: 0.19194, params: {'min_samples_leaf': 1, 'n_estimators': 50, 'max_depth': None, 'max_features': 'log2'}, mean: 0.60946, std: 0.19840, params: {'min_samples_leaf': 1, 'n_estimators': 70, 'max_depth': None, 'max_features': 'log2'}, mean: 0.61902, std: 0.17514, params: {'min_samples_leaf': 1, 'n_estimators': 100, 'max_depth': None, 'max_features': 'log2'}, mean: 0.38947, std: 0.24894, params: {'min_samples_leaf': 3, 'n_estimators': 10, 'max_depth': None, 'max_features': 'log2'}, mean: 0.44092, std: 0.33164, params: {'min_samples_leaf': 3, 'n_estimators': 30, 'max_depth': None, 'max_features': 'log2'}, mean: 0.41320, std: 0.27994, params: {'min_samples_leaf': 3, 'n_estimators': 50, 'max_depth': None, 'max_features': 'log2'}, mean: 0.47967, std: 0.31884, params: {'min_samples_leaf': 3, 'n_estimators': 70, 'max_depth': None, 'max_features': 'log2'}, mean: 0.46739, std: 0.26368, params: {'min_samples_leaf': 3, 'n_estimators': 100, 'max_depth': None, 'max_features': 'log2'}, mean: 0.07032, std: 0.60383, params: {'min_samples_leaf': 5, 'n_estimators': 10, 'max_depth': None, 'max_features': 'log2'}, mean: 0.25743, std: 0.31642, params: {'min_samples_leaf': 5, 'n_estimators': 30, 'max_depth': None, 'max_features': 'log2'}, mean: -0.14448, std: 0.71379, params: {'min_samples_leaf': 5, 'n_estimators': 50, 'max_depth': None, 'max_features': 'log2'}, mean: 0.17256, std: 0.33725, params: {'min_samples_leaf': 5, 'n_estimators': 70, 'max_depth': None, 'max_features': 'log2'}, mean: 0.03627, std: 0.49088, params: {'min_samples_leaf': 5, 'n_estimators': 100, 'max_depth': None, 'max_features': 'log2'}, mean: 0.44201, std: 0.23100, params: {'min_samples_leaf': 1, 'n_estimators': 10, 'max_depth': 3, 'max_features': 'auto'}, mean: 0.64199, std: 0.16352, params: {'min_samples_leaf': 1, 'n_estimators': 30, 'max_depth': 3, 'max_features': 'auto'}, mean: 0.65016, std: 0.18748, params: {'min_samples_leaf': 1, 'n_estimators': 50, 'max_depth': 3, 'max_features': 'auto'}, mean: 0.62484, std: 0.19088, params: {'min_samples_leaf': 1, 'n_estimators': 70, 'max_depth': 3, 'max_features': 'auto'}, mean: 0.59072, std: 0.16683, params: {'min_samples_leaf': 1, 'n_estimators': 100, 'max_depth': 3, 'max_features': 'auto'}, mean: 0.07804, std: 0.37903, params: {'min_samples_leaf': 3, 'n_estimators': 10, 'max_depth': 3, 'max_features': 'auto'}, mean: 0.44273, std: 0.27106, params: {'min_samples_leaf': 3, 'n_estimators': 30, 'max_depth': 3, 'max_features': 'auto'}, mean: 0.43910, std: 0.29114, params: {'min_samples_leaf': 3, 'n_estimators': 50, 'max_depth': 3, 'max_features': 'auto'}, mean: 0.42514, std: 0.24602, params: {'min_samples_leaf': 3, 'n_estimators': 70, 'max_depth': 3, 'max_features': 'auto'}, mean: 0.44192, std: 0.23368, params: {'min_samples_leaf': 3, 'n_estimators': 100, 'max_depth': 3, 'max_features': 'auto'}, mean: -0.35256, std: 1.01515, params: {'min_samples_leaf': 5, 'n_estimators': 10, 'max_depth': 3, 'max_features': 'auto'}, mean: -0.03121, std: 0.66004, params: {'min_samples_leaf': 5, 'n_estimators': 30, 'max_depth': 3, 'max_features': 'auto'}, mean: -0.21749, std: 0.97841, params: {'min_samples_leaf': 5, 'n_estimators': 50, 'max_depth': 3, 'max_features': 'auto'}, mean: -0.20198, std: 0.86701, params: {'min_samples_leaf': 5, 'n_estimators': 70, 'max_depth': 3, 'max_features': 'auto'}, mean: 0.03686, std: 0.61300, params: {'min_samples_leaf': 5, 'n_estimators': 100, 'max_depth': 3, 'max_features': 'auto'}, mean: 0.58734, std: 0.24745, params: {'min_samples_leaf': 1, 'n_estimators': 10, 'max_depth': 3, 'max_features': 'sqrt'}, mean: 0.55531, std: 0.18513, params: {'min_samples_leaf': 1, 'n_estimators': 30, 'max_depth': 3, 'max_features': 'sqrt'}, mean: 0.63063, std: 0.17612, params: {'min_samples_leaf': 1, 'n_estimators': 50, 'max_depth': 3, 'max_features': 'sqrt'}, mean: 0.64177, std: 0.20564, params: {'min_samples_leaf': 1, 'n_estimators': 70, 'max_depth': 3, 'max_features': 'sqrt'}, mean: 0.64447, std: 0.20562, params: {'min_samples_leaf': 1, 'n_estimators': 100, 'max_depth': 3, 'max_features': 'sqrt'}, mean: 0.12482, std: 0.32019, params: {'min_samples_leaf': 3, 'n_estimators': 10, 'max_depth': 3, 'max_features': 'sqrt'}, mean: 0.47865, std: 0.26673, params: {'min_samples_leaf': 3, 'n_estimators': 30, 'max_depth': 3, 'max_features': 'sqrt'}, mean: 0.52953, std: 0.31387, params: {'min_samples_leaf': 3, 'n_estimators': 50, 'max_depth': 3, 'max_features': 'sqrt'}, mean: 0.48767, std: 0.31621, params: {'min_samples_leaf': 3, 'n_estimators': 70, 'max_depth': 3, 'max_features': 'sqrt'}, mean: 0.44048, std: 0.26287, params: {'min_samples_leaf': 3, 'n_estimators': 100, 'max_depth': 3, 'max_features': 'sqrt'}, mean: 0.08264, std: 0.27986, params: {'min_samples_leaf': 5, 'n_estimators': 10, 'max_depth': 3, 'max_features': 'sqrt'}, mean: 0.05130, std: 0.58929, params: {'min_samples_leaf': 5, 'n_estimators': 30, 'max_depth': 3, 'max_features': 'sqrt'}, mean: 0.00678, std: 0.58796, params: {'min_samples_leaf': 5, 'n_estimators': 50, 'max_depth': 3, 'max_features': 'sqrt'}, mean: 0.11320, std: 0.47713, params: {'min_samples_leaf': 5, 'n_estimators': 70, 'max_depth': 3, 'max_features': 'sqrt'}, mean: 0.06441, std: 0.40960, params: {'min_samples_leaf': 5, 'n_estimators': 100, 'max_depth': 3, 'max_features': 'sqrt'}, mean: 0.46734, std: 0.24267, params: {'min_samples_leaf': 1, 'n_estimators': 10, 'max_depth': 3, 'max_features': 'log2'}, mean: 0.59115, std: 0.17506, params: {'min_samples_leaf': 1, 'n_estimators': 30, 'max_depth': 3, 'max_features': 'log2'}, mean: 0.58456, std: 0.18059, params: {'min_samples_leaf': 1, 'n_estimators': 50, 'max_depth': 3, 'max_features': 'log2'}, mean: 0.64383, std: 0.20431, params: {'min_samples_leaf': 1, 'n_estimators': 70, 'max_depth': 3, 'max_features': 'log2'}, mean: 0.60653, std: 0.18273, params: {'min_samples_leaf': 1, 'n_estimators': 100, 'max_depth': 3, 'max_features': 'log2'}, mean: 0.23668, std: 0.24877, params: {'min_samples_leaf': 3, 'n_estimators': 10, 'max_depth': 3, 'max_features': 'log2'}, mean: 0.37108, std: 0.29476, params: {'min_samples_leaf': 3, 'n_estimators': 30, 'max_depth': 3, 'max_features': 'log2'}, mean: 0.43394, std: 0.25679, params: {'min_samples_leaf': 3, 'n_estimators': 50, 'max_depth': 3, 'max_features': 'log2'}, mean: 0.50915, std: 0.31007, params: {'min_samples_leaf': 3, 'n_estimators': 70, 'max_depth': 3, 'max_features': 'log2'}, mean: 0.46199, std: 0.28175, params: {'min_samples_leaf': 3, 'n_estimators': 100, 'max_depth': 3, 'max_features': 'log2'}, mean: -0.06575, std: 0.55274, params: {'min_samples_leaf': 5, 'n_estimators': 10, 'max_depth': 3, 'max_features': 'log2'}, mean: 0.21961, std: 0.33658, params: {'min_samples_leaf': 5, 'n_estimators': 30, 'max_depth': 3, 'max_features': 'log2'}, mean: 0.12144, std: 0.41850, params: {'min_samples_leaf': 5, 'n_estimators': 50, 'max_depth': 3, 'max_features': 'log2'}, mean: -0.01322, std: 0.60978, params: {'min_samples_leaf': 5, 'n_estimators': 70, 'max_depth': 3, 'max_features': 'log2'}, mean: 0.06720, std: 0.47535, params: {'min_samples_leaf': 5, 'n_estimators': 100, 'max_depth': 3, 'max_features': 'log2'}, mean: 0.65734, std: 0.17184, params: {'min_samples_leaf': 1, 'n_estimators': 10, 'max_depth': 6, 'max_features': 'auto'}, mean: 0.57603, std: 0.16361, params: {'min_samples_leaf': 1, 'n_estimators': 30, 'max_depth': 6, 'max_features': 'auto'}, mean: 0.62052, std: 0.18464, params: {'min_samples_leaf': 1, 'n_estimators': 50, 'max_depth': 6, 'max_features': 'auto'}, mean: 0.64891, std: 0.17862, params: {'min_samples_leaf': 1, 'n_estimators': 70, 'max_depth': 6, 'max_features': 'auto'}, mean: 0.59451, std: 0.19500, params: {'min_samples_leaf': 1, 'n_estimators': 100, 'max_depth': 6, 'max_features': 'auto'}, mean: 0.27928, std: 0.34556, params: {'min_samples_leaf': 3, 'n_estimators': 10, 'max_depth': 6, 'max_features': 'auto'}, mean: 0.38922, std: 0.35229, params: {'min_samples_leaf': 3, 'n_estimators': 30, 'max_depth': 6, 'max_features': 'auto'}, mean: 0.44208, std: 0.25029, params: {'min_samples_leaf': 3, 'n_estimators': 50, 'max_depth': 6, 'max_features': 'auto'}, mean: 0.45547, std: 0.28653, params: {'min_samples_leaf': 3, 'n_estimators': 70, 'max_depth': 6, 'max_features': 'auto'}, mean: 0.40537, std: 0.32070, params: {'min_samples_leaf': 3, 'n_estimators': 100, 'max_depth': 6, 'max_features': 'auto'}, mean: 0.23254, std: 0.36008, params: {'min_samples_leaf': 5, 'n_estimators': 10, 'max_depth': 6, 'max_features': 'auto'}, mean: -0.16495, std: 0.71113, params: {'min_samples_leaf': 5, 'n_estimators': 30, 'max_depth': 6, 'max_features': 'auto'}, mean: -0.15719, std: 0.87543, params: {'min_samples_leaf': 5, 'n_estimators': 50, 'max_depth': 6, 'max_features': 'auto'}, mean: 0.04674, std: 0.64451, params: {'min_samples_leaf': 5, 'n_estimators': 70, 'max_depth': 6, 'max_features': 'auto'}, mean: -0.10903, std: 0.89568, params: {'min_samples_leaf': 5, 'n_estimators': 100, 'max_depth': 6, 'max_features': 'auto'}, mean: 0.43779, std: 0.33941, params: {'min_samples_leaf': 1, 'n_estimators': 10, 'max_depth': 6, 'max_features': 'sqrt'}, mean: 0.47088, std: 0.19125, params: {'min_samples_leaf': 1, 'n_estimators': 30, 'max_depth': 6, 'max_features': 'sqrt'}, mean: 0.60362, std: 0.22017, params: {'min_samples_leaf': 1, 'n_estimators': 50, 'max_depth': 6, 'max_features': 'sqrt'}, mean: 0.59884, std: 0.22629, params: {'min_samples_leaf': 1, 'n_estimators': 70, 'max_depth': 6, 'max_features': 'sqrt'}, mean: 0.65389, std: 0.21710, params: {'min_samples_leaf': 1, 'n_estimators': 100, 'max_depth': 6, 'max_features': 'sqrt'}, mean: 0.41044, std: 0.26448, params: {'min_samples_leaf': 3, 'n_estimators': 10, 'max_depth': 6, 'max_features': 'sqrt'}, mean: 0.40256, std: 0.28272, params: {'min_samples_leaf': 3, 'n_estimators': 30, 'max_depth': 6, 'max_features': 'sqrt'}, mean: 0.46683, std: 0.29060, params: {'min_samples_leaf': 3, 'n_estimators': 50, 'max_depth': 6, 'max_features': 'sqrt'}, mean: 0.44277, std: 0.26459, params: {'min_samples_leaf': 3, 'n_estimators': 70, 'max_depth': 6, 'max_features': 'sqrt'}, mean: 0.40411, std: 0.26361, params: {'min_samples_leaf': 3, 'n_estimators': 100, 'max_depth': 6, 'max_features': 'sqrt'}, mean: 0.03631, std: 0.52276, params: {'min_samples_leaf': 5, 'n_estimators': 10, 'max_depth': 6, 'max_features': 'sqrt'}, mean: 0.17278, std: 0.38809, params: {'min_samples_leaf': 5, 'n_estimators': 30, 'max_depth': 6, 'max_features': 'sqrt'}, mean: 0.03826, std: 0.56168, params: {'min_samples_leaf': 5, 'n_estimators': 50, 'max_depth': 6, 'max_features': 'sqrt'}, mean: 0.06577, std: 0.38088, params: {'min_samples_leaf': 5, 'n_estimators': 70, 'max_depth': 6, 'max_features': 'sqrt'}, mean: 0.15983, std: 0.34686, params: {'min_samples_leaf': 5, 'n_estimators': 100, 'max_depth': 6, 'max_features': 'sqrt'}, mean: 0.56244, std: 0.17787, params: {'min_samples_leaf': 1, 'n_estimators': 10, 'max_depth': 6, 'max_features': 'log2'}, mean: 0.56797, std: 0.18576, params: {'min_samples_leaf': 1, 'n_estimators': 30, 'max_depth': 6, 'max_features': 'log2'}, mean: 0.59795, std: 0.18086, params: {'min_samples_leaf': 1, 'n_estimators': 50, 'max_depth': 6, 'max_features': 'log2'}, mean: 0.60768, std: 0.21033, params: {'min_samples_leaf': 1, 'n_estimators': 70, 'max_depth': 6, 'max_features': 'log2'}, mean: 0.63433, std: 0.20264, params: {'min_samples_leaf': 1, 'n_estimators': 100, 'max_depth': 6, 'max_features': 'log2'}, mean: 0.22427, std: 0.33673, params: {'min_samples_leaf': 3, 'n_estimators': 10, 'max_depth': 6, 'max_features': 'log2'}, mean: 0.38577, std: 0.26015, params: {'min_samples_leaf': 3, 'n_estimators': 30, 'max_depth': 6, 'max_features': 'log2'}, mean: 0.42496, std: 0.25889, params: {'min_samples_leaf': 3, 'n_estimators': 50, 'max_depth': 6, 'max_features': 'log2'}, mean: 0.49819, std: 0.26786, params: {'min_samples_leaf': 3, 'n_estimators': 70, 'max_depth': 6, 'max_features': 'log2'}, mean: 0.48569, std: 0.26265, params: {'min_samples_leaf': 3, 'n_estimators': 100, 'max_depth': 6, 'max_features': 'log2'}, mean: 0.10451, std: 0.33945, params: {'min_samples_leaf': 5, 'n_estimators': 10, 'max_depth': 6, 'max_features': 'log2'}, mean: 0.06720, std: 0.44769, params: {'min_samples_leaf': 5, 'n_estimators': 30, 'max_depth': 6, 'max_features': 'log2'}, mean: 0.02854, std: 0.48518, params: {'min_samples_leaf': 5, 'n_estimators': 50, 'max_depth': 6, 'max_features': 'log2'}, mean: 0.08769, std: 0.39152, params: {'min_samples_leaf': 5, 'n_estimators': 70, 'max_depth': 6, 'max_features': 'log2'}, mean: 0.03064, std: 0.51745, params: {'min_samples_leaf': 5, 'n_estimators': 100, 'max_depth': 6, 'max_features': 'log2'}]\n"
     ]
    }
   ],
   "source": [
    "from sklearn.ensemble import RandomForestRegressor\n",
    "\n",
    "params = {'n_estimators':[10,30,50,70,100],'max_features':['auto','sqrt','log2'],'min_samples_leaf':[1,3,5],'max_depth':[None,3,6]}\n",
    "rfr = RandomForestRegressor(oob_score=True)\n",
    "clf = GridSearchCV(rfr, params,cv=4, n_jobs=-1, refit=True,scoring='r2')\n",
    "clf.fit(X_fit,Y_fit)\n",
    "print(clf.best_params_)\n",
    "print(clf.grid_scores_)\n",
    "# rfr.fit(X_data,Y_data)\n",
    "# print(rfr.score(X_data,Y_data))\n",
    "# print(rfr.score(X_test,Y_test))\n",
    "# print(ss_y.inverse_transform(rfr.predict(X_test)))\n",
    "# print(ss_y.inverse_transform(Y_test))"
   ]
  },
  {
   "cell_type": "code",
   "execution_count": 9,
   "metadata": {},
   "outputs": [
    {
     "name": "stderr",
     "output_type": "stream",
     "text": [
      "f:\\pythonprojects\\lenv\\test\\lib\\site-packages\\sklearn\\utils\\validation.py:578: DataConversionWarning: A column-vector y was passed when a 1d array was expected. Please change the shape of y to (n_samples, ), for example using ravel().\n",
      "  y = column_or_1d(y, warn=True)\n",
      "f:\\pythonprojects\\lenv\\test\\lib\\site-packages\\sklearn\\utils\\validation.py:578: DataConversionWarning: A column-vector y was passed when a 1d array was expected. Please change the shape of y to (n_samples, ), for example using ravel().\n",
      "  y = column_or_1d(y, warn=True)\n",
      "f:\\pythonprojects\\lenv\\test\\lib\\site-packages\\sklearn\\utils\\validation.py:578: DataConversionWarning: A column-vector y was passed when a 1d array was expected. Please change the shape of y to (n_samples, ), for example using ravel().\n",
      "  y = column_or_1d(y, warn=True)\n",
      "f:\\pythonprojects\\lenv\\test\\lib\\site-packages\\sklearn\\utils\\validation.py:578: DataConversionWarning: A column-vector y was passed when a 1d array was expected. Please change the shape of y to (n_samples, ), for example using ravel().\n",
      "  y = column_or_1d(y, warn=True)\n"
     ]
    },
    {
     "name": "stdout",
     "output_type": "stream",
     "text": [
      "0.7428245474087023\n"
     ]
    },
    {
     "name": "stderr",
     "output_type": "stream",
     "text": [
      "f:\\pythonprojects\\lenv\\test\\lib\\site-packages\\sklearn\\utils\\validation.py:578: DataConversionWarning: A column-vector y was passed when a 1d array was expected. Please change the shape of y to (n_samples, ), for example using ravel().\n",
      "  y = column_or_1d(y, warn=True)\n"
     ]
    },
    {
     "data": {
      "image/png": "[encoded data removed]",
      "text/plain": [
       "<Figure size 720x432 with 1 Axes>"
      ]
     },
     "metadata": {},
     "output_type": "display_data"
    }
   ],
   "source": [
    "from sklearn.ensemble import AdaBoostRegressor\n",
    "from sklearn.preprocessing import StandardScaler\n",
    "from sklearn.model_selection import cross_val_score\n",
    "\n",
    "ss_x2 = StandardScaler()\n",
    "ss_y2 = StandardScaler()\n",
    "X_fit = ss_x2.fit_transform(X)\n",
    "Y_fit = ss_y2.fit_transform(Y.values.reshape(-1,1))\n",
    "\n",
    "clf = AdaBoostRegressor(n_estimators=100)\n",
    "scores = cross_val_score(clf, X_fit, Y_fit,cv=4)\n",
    "print(scores.mean())\n",
    "\n",
    "clf.fit(X_fit,Y_fit)\n",
    "plt.rcParams['font.sans-serif']=['SimHei'] #用来正常显示中文标签\n",
    "plt.rcParams['axes.unicode_minus']=False #用来正常显示负号\n",
    "plt.figure(figsize=(10, 6))#调整画布大小\n",
    "plt.scatter(range(X_fit.shape[0]),ss_y2.inverse_transform(clf.predict(X_fit)),color='r')\n",
    "plt.scatter(range(X_fit.shape[0]),ss_y2.inverse_transform(Y_fit),color='blue')\n",
    "plt.show()"
   ]
  },
  {
   "cell_type": "code",
   "execution_count": 12,
   "metadata": {},
   "outputs": [
    {
     "data": {
      "image/png": "[encoded data removed]",
      "text/plain": [
       "<Figure size 720x432 with 1 Axes>"
      ]
     },
     "metadata": {},
     "output_type": "display_data"
    }
   ],
   "source": [
    "plt.rcParams['font.sans-serif']=['SimHei'] #用来正常显示中文标签\n",
    "plt.rcParams['axes.unicode_minus']=False #用来正常显示负号\n",
    "plt.figure(figsize=(10, 6))#调整画布大小\n",
    "plt.scatter(range(X_fit.shape[0]),ss_y2.inverse_transform(clf.predict(X_fit)),color='r')\n",
    "plt.scatter(range(X_fit.shape[0]),ss_y2.inverse_transform(Y_fit),color='blue')\n",
    "plt.show()"
   ]
  },
  {
   "cell_type": "code",
   "execution_count": 13,
   "metadata": {},
   "outputs": [
    {
     "name": "stderr",
     "output_type": "stream",
     "text": [
      "f:\\pythonprojects\\lenv\\test\\lib\\site-packages\\sklearn\\utils\\validation.py:578: DataConversionWarning: A column-vector y was passed when a 1d array was expected. Please change the shape of y to (n_samples, ), for example using ravel().\n",
      "  y = column_or_1d(y, warn=True)\n",
      "f:\\pythonprojects\\lenv\\test\\lib\\site-packages\\sklearn\\utils\\validation.py:578: DataConversionWarning: A column-vector y was passed when a 1d array was expected. Please change the shape of y to (n_samples, ), for example using ravel().\n",
      "  y = column_or_1d(y, warn=True)\n",
      "f:\\pythonprojects\\lenv\\test\\lib\\site-packages\\sklearn\\utils\\validation.py:578: DataConversionWarning: A column-vector y was passed when a 1d array was expected. Please change the shape of y to (n_samples, ), for example using ravel().\n",
      "  y = column_or_1d(y, warn=True)\n",
      "f:\\pythonprojects\\lenv\\test\\lib\\site-packages\\sklearn\\utils\\validation.py:578: DataConversionWarning: A column-vector y was passed when a 1d array was expected. Please change the shape of y to (n_samples, ), for example using ravel().\n",
      "  y = column_or_1d(y, warn=True)\n",
      "f:\\pythonprojects\\lenv\\test\\lib\\site-packages\\sklearn\\model_selection\\_validation.py:458: DataConversionWarning: A column-vector y was passed when a 1d array was expected. Please change the shape of y to (n_samples,), for example using ravel().\n",
      "  estimator.fit(X_train, y_train, **fit_params)\n"
     ]
    },
    {
     "name": "stdout",
     "output_type": "stream",
     "text": [
      "0.2126680476031268\n",
      "-4.647030556339308\n"
     ]
    },
    {
     "name": "stderr",
     "output_type": "stream",
     "text": [
      "f:\\pythonprojects\\lenv\\test\\lib\\site-packages\\sklearn\\model_selection\\_validation.py:458: DataConversionWarning: A column-vector y was passed when a 1d array was expected. Please change the shape of y to (n_samples,), for example using ravel().\n",
      "  estimator.fit(X_train, y_train, **fit_params)\n",
      "f:\\pythonprojects\\lenv\\test\\lib\\site-packages\\sklearn\\model_selection\\_validation.py:458: DataConversionWarning: A column-vector y was passed when a 1d array was expected. Please change the shape of y to (n_samples,), for example using ravel().\n",
      "  estimator.fit(X_train, y_train, **fit_params)\n",
      "f:\\pythonprojects\\lenv\\test\\lib\\site-packages\\sklearn\\model_selection\\_validation.py:458: DataConversionWarning: A column-vector y was passed when a 1d array was expected. Please change the shape of y to (n_samples,), for example using ravel().\n",
      "  estimator.fit(X_train, y_train, **fit_params)\n"
     ]
    },
    {
     "name": "stdout",
     "output_type": "stream",
     "text": [
      "0.5914154979218667\n"
     ]
    },
    {
     "name": "stderr",
     "output_type": "stream",
     "text": [
      "f:\\pythonprojects\\lenv\\test\\lib\\site-packages\\ipykernel_launcher.py:16: DataConversionWarning: A column-vector y was passed when a 1d array was expected. Please change the shape of y to (n_samples,), for example using ravel().\n",
      "  app.launch_new_instance()\n"
     ]
    },
    {
     "name": "stdout",
     "output_type": "stream",
     "text": [
      "adaboost--------------\n",
      "[ 2572.06        7753.115      16445.32857143 28504.67142857\n",
      "  2672.10933333  5001.80673214  2886.814       6573.58775\n",
      "  2750.9075      6740.004       2671.678       4817.07828571\n",
      "  4656.17337143  2910.985      11174.328     ]\n",
      "svr--------------\n",
      "[ 2844.22972894  7853.58744832 13461.5822347  13537.0446973\n",
      "  1986.21014679  3977.61017375  2703.85766705  6881.3938843\n",
      "  3263.48929954  7297.90413048  3404.10617458  5527.55619784\n",
      "  4774.48097256  2541.01804052 11229.31715879]\n",
      "lr--------------\n",
      "[[ 2445.83153483]\n",
      " [ 8512.80891838]\n",
      " [13935.6847891 ]\n",
      " [24258.15563501]\n",
      " [  -60.43419571]\n",
      " [ 5408.82438434]\n",
      " [ -422.63009882]\n",
      " [ 7325.74773158]\n",
      " [ 3635.40004531]\n",
      " [ 7748.82495211]\n",
      " [ 3381.63744682]\n",
      " [ 7310.52298295]\n",
      " [ 8017.98857682]\n",
      " [ 2277.17601568]\n",
      " [14294.12919896]]\n",
      "rf--------------\n",
      "[ 4070.30908571  7753.23006714 15081.38522429 23401.73058571\n",
      "  2561.92057143  5224.24036286  2597.40855714  6547.22916714\n",
      "  3066.95273     6692.67311429  3033.00715286  5017.53621429\n",
      "  5599.56225143  2825.49311143 11638.27881714]\n"
     ]
    }
   ],
   "source": [
    "from sklearn.svm import SVR\n",
    "svr = SVR(kernel='rbf')\n",
    "scores = cross_val_score(svr, X_fit, Y_fit,cv=4)\n",
    "svr.fit(X_fit, Y_fit)\n",
    "print(scores.mean())\n",
    "\n",
    "from sklearn.linear_model import LinearRegression\n",
    "lr = LinearRegression()\n",
    "print(cross_val_score(lr, X_fit, Y_fit,cv=4).mean())\n",
    "lr.fit(X_fit,Y_fit)\n",
    "\n",
    "from sklearn.ensemble import RandomForestRegressor\n",
    "rfr = RandomForestRegressor(n_estimators=100)\n",
    "scores = cross_val_score(rfr, X_fit, Y_fit,cv=4)\n",
    "print(scores.mean())\n",
    "rfr.fit(X_fit,Y_fit)\n",
    "\n",
    "print('adaboost--------------')\n",
    "print(ss_y2.inverse_transform(clf.predict(X_fit[:15])))\n",
    "print('svr--------------')\n",
    "print(ss_y2.inverse_transform(svr.predict(X_fit[:15])))\n",
    "print('lr--------------')\n",
    "print(ss_y2.inverse_transform(lr.predict(X_fit[:15])))\n",
    "print('rf--------------')\n",
    "print(ss_y2.inverse_transform(rfr.predict(X_fit[:15])))"
   ]
  },
  {
   "cell_type": "code",
   "execution_count": 111,
   "metadata": {},
   "outputs": [
    {
     "name": "stdout",
     "output_type": "stream",
     "text": [
      "0.1748226987999639\n"
     ]
    }
   ],
   "source": [
    "from sklearn import tree\n",
    "dtr = tree.DecisionTreeRegressor()\n",
    "scores = cross_val_score(dtr, X_fit, Y_fit,cv=4)\n",
    "print(scores.mean())"
   ]
  },
  {
   "cell_type": "code",
   "execution_count": 11,
   "metadata": {
    "scrolled": true
   },
   "outputs": [
    {
     "name": "stderr",
     "output_type": "stream",
     "text": [
      "f:\\pythonprojects\\lenv\\test\\lib\\site-packages\\sklearn\\model_selection\\_validation.py:458: DataConversionWarning: A column-vector y was passed when a 1d array was expected. Please change the shape of y to (n_samples,), for example using ravel().\n",
      "  estimator.fit(X_train, y_train, **fit_params)\n",
      "f:\\pythonprojects\\lenv\\test\\lib\\site-packages\\sklearn\\model_selection\\_validation.py:458: DataConversionWarning: A column-vector y was passed when a 1d array was expected. Please change the shape of y to (n_samples,), for example using ravel().\n",
      "  estimator.fit(X_train, y_train, **fit_params)\n",
      "f:\\pythonprojects\\lenv\\test\\lib\\site-packages\\sklearn\\model_selection\\_validation.py:458: DataConversionWarning: A column-vector y was passed when a 1d array was expected. Please change the shape of y to (n_samples,), for example using ravel().\n",
      "  estimator.fit(X_train, y_train, **fit_params)\n",
      "f:\\pythonprojects\\lenv\\test\\lib\\site-packages\\sklearn\\model_selection\\_validation.py:458: DataConversionWarning: A column-vector y was passed when a 1d array was expected. Please change the shape of y to (n_samples,), for example using ravel().\n",
      "  estimator.fit(X_train, y_train, **fit_params)\n"
     ]
    },
    {
     "name": "stdout",
     "output_type": "stream",
     "text": [
      "0.5769124072036191\n"
     ]
    },
    {
     "name": "stderr",
     "output_type": "stream",
     "text": [
      "f:\\pythonprojects\\lenv\\test\\lib\\site-packages\\ipykernel_launcher.py:5: DataConversionWarning: A column-vector y was passed when a 1d array was expected. Please change the shape of y to (n_samples,), for example using ravel().\n",
      "  \"\"\"\n"
     ]
    },
    {
     "data": {
      "text/plain": [
       "RandomForestRegressor(bootstrap=True, criterion='mse', max_depth=None,\n",
       "           max_features='auto', max_leaf_nodes=None,\n",
       "           min_impurity_decrease=0.0, min_impurity_split=None,\n",
       "           min_samples_leaf=1, min_samples_split=2,\n",
       "           min_weight_fraction_leaf=0.0, n_estimators=100, n_jobs=1,\n",
       "           oob_score=False, random_state=None, verbose=0, warm_start=False)"
      ]
     },
     "execution_count": 11,
     "metadata": {},
     "output_type": "execute_result"
    }
   ],
   "source": [
    "from sklearn.ensemble import RandomForestRegressor\n",
    "rfr = RandomForestRegressor(n_estimators=100)\n",
    "scores = cross_val_score(rfr, X_fit, Y_fit,cv=4)\n",
    "print(scores.mean())\n",
    "rfr.fit(X_fit,Y_fit)\n",
    "# plt.rcParams['font.sans-serif']=['SimHei'] #用来正常显示中文标签\n",
    "# plt.rcParams['axes.unicode_minus']=False #用来正常显示负号\n",
    "# plt.figure(figsize=(10, 6))#调整画布大小\n",
    "# plt.scatter(range(X_fit.shape[0]),rfr.predict(X_fit),color='r')\n",
    "# plt.scatter(range(X_fit.shape[0]),Y_fit,color='blue')\n",
    "# plt.show()"
   ]
  },
  {
   "cell_type": "code",
   "execution_count": 16,
   "metadata": {},
   "outputs": [
    {
     "name": "stdout",
     "output_type": "stream",
     "text": [
      "[0.38183675 0.31339726 0.01006804 0.09470157 0.1629518  0.03704459]\n",
      "[0.31391039 0.29532726 0.01271976 0.08733052 0.25422969 0.03648238]\n",
      "[ 4492.33374571  7752.72808    14897.23978857 22995.69125143\n",
      "  2482.9974      5143.89103714  2477.38434286  6571.35049857\n",
      "  3016.08189     6626.02758571]\n",
      "[[ 2242.7       ]\n",
      " [ 8457.65      ]\n",
      " [16445.32857143]\n",
      " [28504.67142857]\n",
      " [ 2352.55714286]\n",
      " [ 6107.54285714]\n",
      " [ 2117.71428571]\n",
      " [ 6277.14      ]\n",
      " [ 2661.15      ]\n",
      " [ 7048.58      ]]\n"
     ]
    },
    {
     "data": {
      "image/png": "[encoded data removed]",
      "text/plain": [
       "<Figure size 720x432 with 1 Axes>"
      ]
     },
     "metadata": {},
     "output_type": "display_data"
    }
   ],
   "source": [
    "plt.rcParams['font.sans-serif']=['SimHei'] #用来正常显示中文标签\n",
    "plt.rcParams['axes.unicode_minus']=False #用来正常显示负号\n",
    "plt.figure(figsize=(10, 6))#调整画布大小\n",
    "ix=X_fit[:10]\n",
    "iy=Y_fit[:10]\n",
    "num=ix.shape[0]\n",
    "plt.scatter(range(num),ss_y2.inverse_transform(rfr.predict(ix)),color='r',marker='v',label='RF',s=60)\n",
    "print(rfr.feature_importances_)\n",
    "print(clf.feature_importances_)\n",
    "print(ss_y2.inverse_transform(rfr.predict(ix)))\n",
    "print(ss_y2.inverse_transform(iy))\n",
    "# plt.scatter(range(num),clf.predict(ix),color='green',marker='^',label='Adaboost',s=60)\n",
    "plt.scatter(range(num),ss_y2.inverse_transform(iy),color='blue',marker='+',label='真实值',s=140)\n",
    "group_labels = fore['片名'].values \n",
    "plt.xticks(range(num),group_labels,rotation=60,fontsize=12)\n",
    "plt.grid(color='grey', linestyle='--', linewidth=1,alpha=0.3)\n",
    "plt.legend(fontsize=15,shadow=True)\n",
    "plt.ylabel('票房值(万元)',fontsize=14)\n",
    "plt.show()"
   ]
  },
  {
   "cell_type": "code",
   "execution_count": 55,
   "metadata": {},
   "outputs": [
    {
     "name": "stdout",
     "output_type": "stream",
     "text": [
      "Help on function grid in module matplotlib.pyplot:\n",
      "\n",
      "grid(b=None, which='major', axis='both', **kwargs)\n",
      "    Turn the axes grids on or off.\n",
      "    \n",
      "    Set the axes grids on or off; *b* is a boolean.\n",
      "    \n",
      "    If *b* is *None* and ``len(kwargs)==0``, toggle the grid state.  If\n",
      "    *kwargs* are supplied, it is assumed that you want a grid and *b*\n",
      "    is thus set to *True*.\n",
      "    \n",
      "    *which* can be 'major' (default), 'minor', or 'both' to control\n",
      "    whether major tick grids, minor tick grids, or both are affected.\n",
      "    \n",
      "    *axis* can be 'both' (default), 'x', or 'y' to control which\n",
      "    set of gridlines are drawn.\n",
      "    \n",
      "    *kwargs* are used to set the grid line properties, e.g.,::\n",
      "    \n",
      "       ax.grid(color='r', linestyle='-', linewidth=2)\n",
      "    \n",
      "    Valid :class:`~matplotlib.lines.Line2D` kwargs are\n",
      "    \n",
      "      agg_filter: a filter function, which takes a (m, n, 3) float array and a dpi value, and returns a (m, n, 3) array \n",
      "      alpha: float (0.0 transparent through 1.0 opaque) \n",
      "      animated: bool \n",
      "      antialiased or aa: bool \n",
      "      clip_box: a `.Bbox` instance \n",
      "      clip_on: bool \n",
      "      clip_path: [(`~matplotlib.path.Path`, `.Transform`) | `.Patch` | None] \n",
      "      color or c: any matplotlib color \n",
      "      contains: a callable function \n",
      "      dash_capstyle: ['butt' | 'round' | 'projecting'] \n",
      "      dash_joinstyle: ['miter' | 'round' | 'bevel'] \n",
      "      dashes: sequence of on/off ink in points \n",
      "      drawstyle: ['default' | 'steps' | 'steps-pre' | 'steps-mid' | 'steps-post'] \n",
      "      figure: a `.Figure` instance \n",
      "      fillstyle: ['full' | 'left' | 'right' | 'bottom' | 'top' | 'none'] \n",
      "      gid: an id string \n",
      "      label: object \n",
      "      linestyle or ls: ['solid' | 'dashed', 'dashdot', 'dotted' | (offset, on-off-dash-seq) | ``'-'`` | ``'--'`` | ``'-.'`` | ``':'`` | ``'None'`` | ``' '`` | ``''``]\n",
      "      linewidth or lw: float value in points \n",
      "      marker: :mod:`A valid marker style <matplotlib.markers>`\n",
      "      markeredgecolor or mec: any matplotlib color \n",
      "      markeredgewidth or mew: float value in points \n",
      "      markerfacecolor or mfc: any matplotlib color \n",
      "      markerfacecoloralt or mfcalt: any matplotlib color \n",
      "      markersize or ms: float \n",
      "      markevery: [None | int | length-2 tuple of int | slice | list/array of int | float | length-2 tuple of float]\n",
      "      path_effects: `.AbstractPathEffect` \n",
      "      picker: float distance in points or callable pick function ``fn(artist, event)`` \n",
      "      pickradius: float distance in points\n",
      "      rasterized: bool or None \n",
      "      sketch_params: (scale: float, length: float, randomness: float) \n",
      "      snap: bool or None \n",
      "      solid_capstyle: ['butt' | 'round' |  'projecting'] \n",
      "      solid_joinstyle: ['miter' | 'round' | 'bevel'] \n",
      "      transform: a :class:`matplotlib.transforms.Transform` instance \n",
      "      url: a url string \n",
      "      visible: bool \n",
      "      xdata: 1D array \n",
      "      ydata: 1D array \n",
      "      zorder: float\n",
      "\n"
     ]
    }
   ],
   "source": [
    "help(plt.grid)"
   ]
  },
  {
   "cell_type": "code",
   "execution_count": 117,
   "metadata": {},
   "outputs": [],
   "source": [
    "'''模型融合中使用到的各个单模型'''\n",
    "from sklearn.ensemble import AdaBoostRegressor\n",
    "from sklearn.svm import SVR\n",
    "import xgboost as xgb\n",
    "from sklearn.ensemble import RandomForestRegressor\n",
    "from sklearn.ensemble import GradientBoostingRegressor\n",
    "\n",
    "clfs = [\n",
    "    AdaBoostRegressor(n_estimators=50),\n",
    "    SVR('rbf'),\n",
    "#     xgb.XGBRegressor(),\n",
    "    RandomForestRegressor(n_estimators=50),\n",
    "    GradientBoostingRegressor(n_estimators=50)\n",
    "]\n",
    "\n"
   ]
  },
  {
   "cell_type": "code",
   "execution_count": 118,
   "metadata": {},
   "outputs": [
    {
     "name": "stdout",
     "output_type": "stream",
     "text": [
      "---------out for: ----------\n",
      " 0 AdaBoostRegressor(base_estimator=None, learning_rate=1.0, loss='linear',\n",
      "         n_estimators=50, random_state=None)\n",
      "》》》》》Fold 0\n"
     ]
    },
    {
     "name": "stderr",
     "output_type": "stream",
     "text": [
      "f:\\pythonprojects\\lenv\\test\\lib\\site-packages\\sklearn\\utils\\validation.py:578: DataConversionWarning: A column-vector y was passed when a 1d array was expected. Please change the shape of y to (n_samples, ), for example using ravel().\n",
      "  y = column_or_1d(y, warn=True)\n"
     ]
    },
    {
     "name": "stdout",
     "output_type": "stream",
     "text": [
      "》》》》》Fold 1\n"
     ]
    },
    {
     "name": "stderr",
     "output_type": "stream",
     "text": [
      "f:\\pythonprojects\\lenv\\test\\lib\\site-packages\\sklearn\\utils\\validation.py:578: DataConversionWarning: A column-vector y was passed when a 1d array was expected. Please change the shape of y to (n_samples, ), for example using ravel().\n",
      "  y = column_or_1d(y, warn=True)\n"
     ]
    },
    {
     "name": "stdout",
     "output_type": "stream",
     "text": [
      "》》》》》Fold 2\n"
     ]
    },
    {
     "name": "stderr",
     "output_type": "stream",
     "text": [
      "f:\\pythonprojects\\lenv\\test\\lib\\site-packages\\sklearn\\utils\\validation.py:578: DataConversionWarning: A column-vector y was passed when a 1d array was expected. Please change the shape of y to (n_samples, ), for example using ravel().\n",
      "  y = column_or_1d(y, warn=True)\n"
     ]
    },
    {
     "name": "stdout",
     "output_type": "stream",
     "text": [
      "》》》》》Fold 3\n"
     ]
    },
    {
     "name": "stderr",
     "output_type": "stream",
     "text": [
      "f:\\pythonprojects\\lenv\\test\\lib\\site-packages\\sklearn\\utils\\validation.py:578: DataConversionWarning: A column-vector y was passed when a 1d array was expected. Please change the shape of y to (n_samples, ), for example using ravel().\n",
      "  y = column_or_1d(y, warn=True)\n"
     ]
    },
    {
     "name": "stdout",
     "output_type": "stream",
     "text": [
      "》》》》》Fold 4\n"
     ]
    },
    {
     "name": "stderr",
     "output_type": "stream",
     "text": [
      "f:\\pythonprojects\\lenv\\test\\lib\\site-packages\\sklearn\\utils\\validation.py:578: DataConversionWarning: A column-vector y was passed when a 1d array was expected. Please change the shape of y to (n_samples, ), for example using ravel().\n",
      "  y = column_or_1d(y, warn=True)\n"
     ]
    },
    {
     "name": "stdout",
     "output_type": "stream",
     "text": [
      "---------out for: ----------\n",
      " 1 SVR(C=1.0, cache_size=200, coef0=0.0, degree=3, epsilon=0.1, gamma='auto',\n",
      "  kernel='rbf', max_iter=-1, shrinking=True, tol=0.001, verbose=False)\n",
      "》》》》》Fold 0\n",
      "》》》》》Fold 1\n",
      "》》》》》Fold 2\n",
      "》》》》》Fold 3\n",
      "》》》》》Fold 4\n",
      "---------out for: ----------\n",
      " 2 RandomForestRegressor(bootstrap=True, criterion='mse', max_depth=None,\n",
      "           max_features='auto', max_leaf_nodes=None,\n",
      "           min_impurity_decrease=0.0, min_impurity_split=None,\n",
      "           min_samples_leaf=1, min_samples_split=2,\n",
      "           min_weight_fraction_leaf=0.0, n_estimators=50, n_jobs=1,\n",
      "           oob_score=False, random_state=None, verbose=0, warm_start=False)\n",
      "》》》》》Fold 0\n"
     ]
    },
    {
     "name": "stderr",
     "output_type": "stream",
     "text": [
      "f:\\pythonprojects\\lenv\\test\\lib\\site-packages\\sklearn\\utils\\validation.py:578: DataConversionWarning: A column-vector y was passed when a 1d array was expected. Please change the shape of y to (n_samples, ), for example using ravel().\n",
      "  y = column_or_1d(y, warn=True)\n",
      "f:\\pythonprojects\\lenv\\test\\lib\\site-packages\\ipykernel_launcher.py:20: DataConversionWarning: A column-vector y was passed when a 1d array was expected. Please change the shape of y to (n_samples,), for example using ravel().\n"
     ]
    },
    {
     "name": "stdout",
     "output_type": "stream",
     "text": [
      "》》》》》Fold 1\n"
     ]
    },
    {
     "name": "stderr",
     "output_type": "stream",
     "text": [
      "f:\\pythonprojects\\lenv\\test\\lib\\site-packages\\ipykernel_launcher.py:20: DataConversionWarning: A column-vector y was passed when a 1d array was expected. Please change the shape of y to (n_samples,), for example using ravel().\n"
     ]
    },
    {
     "name": "stdout",
     "output_type": "stream",
     "text": [
      "》》》》》Fold 2\n"
     ]
    },
    {
     "name": "stderr",
     "output_type": "stream",
     "text": [
      "f:\\pythonprojects\\lenv\\test\\lib\\site-packages\\ipykernel_launcher.py:20: DataConversionWarning: A column-vector y was passed when a 1d array was expected. Please change the shape of y to (n_samples,), for example using ravel().\n"
     ]
    },
    {
     "name": "stdout",
     "output_type": "stream",
     "text": [
      "》》》》》Fold 3\n"
     ]
    },
    {
     "name": "stderr",
     "output_type": "stream",
     "text": [
      "f:\\pythonprojects\\lenv\\test\\lib\\site-packages\\ipykernel_launcher.py:20: DataConversionWarning: A column-vector y was passed when a 1d array was expected. Please change the shape of y to (n_samples,), for example using ravel().\n"
     ]
    },
    {
     "name": "stdout",
     "output_type": "stream",
     "text": [
      "》》》》》Fold 4\n"
     ]
    },
    {
     "name": "stderr",
     "output_type": "stream",
     "text": [
      "f:\\pythonprojects\\lenv\\test\\lib\\site-packages\\ipykernel_launcher.py:20: DataConversionWarning: A column-vector y was passed when a 1d array was expected. Please change the shape of y to (n_samples,), for example using ravel().\n"
     ]
    },
    {
     "name": "stdout",
     "output_type": "stream",
     "text": [
      "---------out for: ----------\n",
      " 3 GradientBoostingRegressor(alpha=0.9, criterion='friedman_mse', init=None,\n",
      "             learning_rate=0.1, loss='ls', max_depth=3, max_features=None,\n",
      "             max_leaf_nodes=None, min_impurity_decrease=0.0,\n",
      "             min_impurity_split=None, min_samples_leaf=1,\n",
      "             min_samples_split=2, min_weight_fraction_leaf=0.0,\n",
      "             n_estimators=50, presort='auto', random_state=None,\n",
      "             subsample=1.0, verbose=0, warm_start=False)\n",
      "》》》》》Fold 0\n",
      "》》》》》Fold 1\n",
      "》》》》》Fold 2\n"
     ]
    },
    {
     "name": "stderr",
     "output_type": "stream",
     "text": [
      "f:\\pythonprojects\\lenv\\test\\lib\\site-packages\\sklearn\\utils\\validation.py:578: DataConversionWarning: A column-vector y was passed when a 1d array was expected. Please change the shape of y to (n_samples, ), for example using ravel().\n",
      "  y = column_or_1d(y, warn=True)\n"
     ]
    },
    {
     "name": "stdout",
     "output_type": "stream",
     "text": [
      "》》》》》Fold 3\n",
      "》》》》》Fold 4\n"
     ]
    },
    {
     "data": {
      "text/plain": [
       "LinearRegression(copy_X=True, fit_intercept=True, n_jobs=1, normalize=False)"
      ]
     },
     "execution_count": 118,
     "metadata": {},
     "output_type": "execute_result"
    }
   ],
   "source": [
    "# 创建n_folds\n",
    "from sklearn.model_selection import KFold\n",
    "\n",
    "skf = KFold(n_splits=5)\n",
    "\n",
    "# 创建零矩阵\n",
    "#新特征组，每个clf输出一个新特征\n",
    "dataset_blend_train = np.zeros((X_fit.shape[0], len(clfs)))\n",
    "# dataset_blend_test = np.zeros((Y_fit.shape[0], len(clfs)))\n",
    "\n",
    "# 建立模型\n",
    "for j, clf in enumerate(clfs):\n",
    "    '''依次训练各个单模型'''\n",
    "    print('---------out for: ----------\\n',j, clf)\n",
    "#     dataset_blend_test_j = np.zeros((Y_fit.shape[0], 5))\n",
    "    for i, (train, test) in enumerate(skf.split(X_fit,Y_fit)):\n",
    "        '''使用第i个部分作为预测，剩余的部分来训练模型，获得其预测的输出作为第i部分的新特征。'''\n",
    "        print(\"》》》》》Fold\", i)\n",
    "        X_train, y_train, X_test, y_test = X_fit[train], Y_fit[train], X_fit[test], Y_fit[test]\n",
    "        clf.fit(X_train, y_train)\n",
    "        y_submission = clf.predict(X_test)\n",
    "#         print('y_submission:',y_submission.shape)\n",
    "        dataset_blend_train[test, j] = y_submission\n",
    "#         dataset_blend_test_j[:, i] = clf.predict_proba(X_predict)[:, 1]\n",
    "    '''对于测试集，直接用这k个模型的预测值均值作为新的特征。'''\n",
    "#     dataset_blend_test[:, j] = dataset_blend_test_j.mean(1)\n",
    "\n",
    "#用建立第二层模型\n",
    "clf2 = LinearRegression()\n",
    "clf2.fit(dataset_blend_train, Y_fit)"
   ]
  },
  {
   "cell_type": "code",
   "execution_count": 120,
   "metadata": {},
   "outputs": [
    {
     "data": {
      "text/plain": [
       "-1.0827242669704025"
      ]
     },
     "execution_count": 120,
     "metadata": {},
     "output_type": "execute_result"
    }
   ],
   "source": [
    "cross_val_score(clf2,dataset_blend_train, Y_fit,cv=4).mean()"
   ]
  },
  {
   "cell_type": "code",
   "execution_count": 57,
   "metadata": {},
   "outputs": [
    {
     "data": {
      "text/plain": [
       "-0.3744684636374468"
      ]
     },
     "execution_count": 57,
     "metadata": {},
     "output_type": "execute_result"
    }
   ],
   "source": [
    "xgbr = xgb.XGBRegressor()\n",
    "cross_val_score(xgbr,X_fit, Y_fit,cv=4).mean()"
   ]
  },
  {
   "cell_type": "code",
   "execution_count": 63,
   "metadata": {},
   "outputs": [
    {
     "name": "stderr",
     "output_type": "stream",
     "text": [
      "f:\\pythonprojects\\lenv\\test\\lib\\site-packages\\sklearn\\utils\\validation.py:578: DataConversionWarning: A column-vector y was passed when a 1d array was expected. Please change the shape of y to (n_samples, ), for example using ravel().\n",
      "  y = column_or_1d(y, warn=True)\n",
      "f:\\pythonprojects\\lenv\\test\\lib\\site-packages\\sklearn\\utils\\validation.py:578: DataConversionWarning: A column-vector y was passed when a 1d array was expected. Please change the shape of y to (n_samples, ), for example using ravel().\n",
      "  y = column_or_1d(y, warn=True)\n",
      "f:\\pythonprojects\\lenv\\test\\lib\\site-packages\\sklearn\\utils\\validation.py:578: DataConversionWarning: A column-vector y was passed when a 1d array was expected. Please change the shape of y to (n_samples, ), for example using ravel().\n",
      "  y = column_or_1d(y, warn=True)\n",
      "f:\\pythonprojects\\lenv\\test\\lib\\site-packages\\sklearn\\utils\\validation.py:578: DataConversionWarning: A column-vector y was passed when a 1d array was expected. Please change the shape of y to (n_samples, ), for example using ravel().\n",
      "  y = column_or_1d(y, warn=True)\n"
     ]
    },
    {
     "data": {
      "text/plain": [
       "0.4855855555207495"
      ]
     },
     "execution_count": 63,
     "metadata": {},
     "output_type": "execute_result"
    }
   ],
   "source": [
    "gbr = GradientBoostingRegressor()\n",
    "cross_val_score(gbr,X_fit, Y_fit,cv=4).mean()"
   ]
  },
  {
   "cell_type": "code",
   "execution_count": null,
   "metadata": {},
   "outputs": [],
   "source": []
  }
 ],
 "metadata": {
  "kernelspec": {
   "display_name": "Python 3",
   "language": "python",
   "name": "python3"
  },
  "language_info": {
   "codemirror_mode": {
    "name": "ipython",
    "version": 3
   },
   "file_extension": ".py",
   "mimetype": "text/x-python",
   "name": "python",
   "nbconvert_exporter": "python",
   "pygments_lexer": "ipython3",
   "version": "3.5.4"
  }
 },
 "nbformat": 4,
 "nbformat_minor": 2
}
